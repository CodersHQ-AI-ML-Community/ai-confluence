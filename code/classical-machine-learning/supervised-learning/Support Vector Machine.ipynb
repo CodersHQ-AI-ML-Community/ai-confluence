{
 "cells": [
  {
   "attachments": {
    "image.png": {
     "image/png": "[encoded data removed]"
    }
   },
   "cell_type": "markdown",
   "id": "2721be3c",
   "metadata": {},
   "source": [
    "# Support Vector Machine\n",
    "\n",
    "Support Vector Machines (SVM) is a powerful supervised learning algorithm used for both classification and regression tasks. SVM aims to find the optimal hyperplane that best separates the data into different classes.\n",
    "\n",
    "![image.png](attachment:image.png)"
   ]
  },
  {
   "cell_type": "code",
   "execution_count": 3,
   "id": "806d0146",
   "metadata": {},
   "outputs": [],
   "source": [
    "import numpy as np\n",
    "from sklearn.metrics import confusion_matrix, classification_report\n",
    "\n",
    "class SVM:\n",
    "    def __init__(self, learning_rate=0.001, lambda_param=0.01, n_iters=1000):\n",
    "        \"\"\"\n",
    "        Initialize the SVM model with hyperparameters.\n",
    "\n",
    "        Parameters:\n",
    "        learning_rate (float): The step size for gradient descent.\n",
    "        lambda_param (float): The regularization parameter.\n",
    "        n_iters (int): The number of iterations to run gradient descent.\n",
    "        \"\"\"\n",
    "        self.learning_rate = learning_rate  # Learning rate for gradient descent\n",
    "        self.lambda_param = lambda_param    # Regularization parameter to avoid overfitting\n",
    "        self.n_iters = n_iters              # Number of iterations for training\n",
    "        self.w = None  # Weights vector\n",
    "        self.b = None  # Bias term\n",
    "\n",
    "    def fit(self, X, y):\n",
    "        \"\"\"\n",
    "        Train the SVM model using the input data X and labels y.\n",
    "\n",
    "        Parameters:\n",
    "        X (numpy.ndarray): Training data of shape (n_samples, n_features).\n",
    "        y (numpy.ndarray): Labels for the training data of shape (n_samples,).\n",
    "        \"\"\"\n",
    "        n_samples, n_features = X.shape  # Number of samples and features\n",
    "\n",
    "        # Convert labels to -1 or 1\n",
    "        y_ = np.where(y <= 0, -1, 1)\n",
    "\n",
    "        # Initialize weights and bias to zero\n",
    "        self.w = np.zeros(n_features)\n",
    "        self.b = 0\n",
    "\n",
    "        # Gradient descent algorithm\n",
    "        for _ in range(self.n_iters):\n",
    "            for idx, x_i in enumerate(X):\n",
    "                # Check the condition y_i * (w . x_i - b) >= 1\n",
    "                condition = y_[idx] * (np.dot(x_i, self.w) - self.b) >= 1\n",
    "                if condition:\n",
    "                    # Update weights for correctly classified points with regularization\n",
    "                    self.w -= self.learning_rate * (2 * self.lambda_param * self.w)\n",
    "                else:\n",
    "                    # Update weights and bias for misclassified points\n",
    "                    self.w -= self.learning_rate * (2 * self.lambda_param * self.w - np.dot(x_i, y_[idx]))\n",
    "                    self.b -= self.learning_rate * y_[idx]\n",
    "\n",
    "    def predict(self, X):\n",
    "        \"\"\"\n",
    "        Predict the class labels for input data X.\n",
    "\n",
    "        Parameters:\n",
    "        X (numpy.ndarray): Input data of shape (n_samples, n_features).\n",
    "\n",
    "        Returns:\n",
    "        numpy.ndarray: Predicted class labels.\n",
    "        \"\"\"\n",
    "        # Calculate the linear combination of weights and features minus the bias\n",
    "        approx = np.dot(X, self.w) - self.b\n",
    "        # Return the sign of the result to get the predicted class labels (-1 or 1)\n",
    "        return np.sign(approx)\n",
    "\n",
    "\n"
   ]
  },
  {
   "cell_type": "code",
   "execution_count": 17,
   "id": "1926a35a",
   "metadata": {},
   "outputs": [
    {
     "name": "stdout",
     "output_type": "stream",
     "text": [
      "Confusion Matrix:\n",
      "[[2 0]\n",
      " [1 1]]\n",
      "\n",
      "Classification Report:\n",
      "              precision    recall  f1-score   support\n",
      "\n",
      "          -1       0.67      1.00      0.80         2\n",
      "           1       1.00      0.50      0.67         2\n",
      "\n",
      "    accuracy                           0.75         4\n",
      "   macro avg       0.83      0.75      0.73         4\n",
      "weighted avg       0.83      0.75      0.73         4\n",
      "\n"
     ]
    }
   ],
   "source": [
    "if __name__ == \"__main__\":\n",
    "    # Example data\n",
    "    X = np.array([[1, 2], [2, 3], [3, 4], [4, 5]])\n",
    "    y = np.array([1, 1, -1, -1])\n",
    "\n",
    "    # Initialize the SVM model\n",
    "    svm = SVM(learning_rate=0.001, lambda_param=0.001, n_iters=1000)\n",
    "\n",
    "    # Train the model\n",
    "    svm.fit(X, y)\n",
    "\n",
    "    # Predict the labels for training data\n",
    "    y_pred = svm.predict(X)\n",
    "\n",
    "    # Calculate confusion matrix and classification report\n",
    "    cm = confusion_matrix(y, y_pred)\n",
    "    cr = classification_report(y, y_pred)\n",
    "\n",
    "    print(\"Confusion Matrix:\")\n",
    "    print(cm)\n",
    "    print(\"\\nClassification Report:\")\n",
    "    print(cr)"
   ]
  },
  {
   "cell_type": "markdown",
   "id": "3ac3f09e",
   "metadata": {},
   "source": [
    "### Scikit-Learn Library"
   ]
  },
  {
   "cell_type": "code",
   "execution_count": 11,
   "id": "2e491075",
   "metadata": {
    "scrolled": true
   },
   "outputs": [
    {
     "name": "stdout",
     "output_type": "stream",
     "text": [
      "Confusion Matrix:\n",
      "[[2 0]\n",
      " [0 2]]\n",
      "Classification Report:\n",
      "              precision    recall  f1-score   support\n",
      "\n",
      "          -1       1.00      1.00      1.00         2\n",
      "           1       1.00      1.00      1.00         2\n",
      "\n",
      "    accuracy                           1.00         4\n",
      "   macro avg       1.00      1.00      1.00         4\n",
      "weighted avg       1.00      1.00      1.00         4\n",
      "\n"
     ]
    }
   ],
   "source": [
    "import numpy as np\n",
    "from sklearn.svm import SVC\n",
    "from sklearn.metrics import confusion_matrix, classification_report\n",
    "\n",
    "# Training data\n",
    "X = np.array([[1, 2], [2, 3], [3, 4], [4, 5]])\n",
    "y = np.array([1, 1, -1, -1])\n",
    "\n",
    "# Create SVM classifier\n",
    "svm_classifier = SVC(kernel='linear')\n",
    "\n",
    "# Train the classifier\n",
    "svm_classifier.fit(X, y)\n",
    "\n",
    "# Predictions on training data\n",
    "y_pred = svm_classifier.predict(X)\n",
    "\n",
    "# Confusion matrix\n",
    "cm = confusion_matrix(y, y_pred)\n",
    "\n",
    "# Classification report\n",
    "report = classification_report(y, y_pred)\n",
    "\n",
    "print(\"Confusion Matrix:\")\n",
    "print(cm)\n",
    "print(\"Classification Report:\")\n",
    "print(report)\n"
   ]
  },
  {
   "cell_type": "code",
   "execution_count": null,
   "id": "daa41313",
   "metadata": {},
   "outputs": [],
   "source": []
  }
 ],
 "metadata": {
  "kernelspec": {
   "display_name": "Python 3 (ipykernel)",
   "language": "python",
   "name": "python3"
  },
  "language_info": {
   "codemirror_mode": {
    "name": "ipython",
    "version": 3
   },
   "file_extension": ".py",
   "mimetype": "text/x-python",
   "name": "python",
   "nbconvert_exporter": "python",
   "pygments_lexer": "ipython3",
   "version": "3.10.11"
  }
 },
 "nbformat": 4,
 "nbformat_minor": 5
}
