{
 "cells": [
  {
   "cell_type": "markdown",
   "metadata": {},
   "source": [
    "### Import Necessary Libraries"
   ]
  },
  {
   "cell_type": "code",
   "execution_count": 4,
   "metadata": {},
   "outputs": [
    {
     "name": "stderr",
     "output_type": "stream",
     "text": [
      "[nltk_data] Downloading package punkt_tab to\n",
      "[nltk_data]     /Users/isham993/nltk_data...\n",
      "[nltk_data]   Unzipping tokenizers/punkt_tab.zip.\n"
     ]
    },
    {
     "data": {
      "text/plain": [
       "True"
      ]
     },
     "execution_count": 4,
     "metadata": {},
     "output_type": "execute_result"
    }
   ],
   "source": [
    "import nltk\n",
    "nltk.download('punkt_tab')"
   ]
  },
  {
   "cell_type": "code",
   "execution_count": 11,
   "metadata": {},
   "outputs": [],
   "source": [
    "from nltk.tokenize import sent_tokenize, word_tokenize, wordpunct_tokenize, TreebankWordTokenizer"
   ]
  },
  {
   "cell_type": "markdown",
   "metadata": {},
   "source": [
    "### Sentence Tokenization"
   ]
  },
  {
   "cell_type": "code",
   "execution_count": 6,
   "metadata": {},
   "outputs": [],
   "source": [
    "# Reference: Wizard of Oz - https://www.gutenberg.org/files/55/55-h/55-h.htm\n",
    "\n",
    "corpus = \"\"\"Folklore, legends, myths and fairy tales have followed childhood through the ages, for every healthy youngster has a wholesome and instinctive love for stories fantastic, marvelous and manifestly unreal. The winged fairies of Grimm and Andersen have brought more happiness to childish hearts than all other human creations.\n",
    "\n",
    "Yet the old time fairy tale, having served for generations, may now be classed as “historical” in the children’s library; for the time has come for a series of newer “wonder tales” in which the stereotyped genie, dwarf and fairy are eliminated, together with all the horrible and blood-curdling incidents devised by their authors to point a fearsome moral to each tale. Modern education includes morality; therefore the modern child seeks only entertainment in its wonder tales and gladly dispenses with all disagreeable incident.\n",
    "\n",
    "Having this thought in mind, the story of “The Wonderful Wizard of Oz” was written solely to please children of today. It aspires to being a modernized fairy tale, in which the wonderment and joy are retained and the heartaches and nightmares are left out.\n",
    "\"\"\""
   ]
  },
  {
   "cell_type": "markdown",
   "metadata": {},
   "source": [
    "Sentence Tokenization"
   ]
  },
  {
   "cell_type": "code",
   "execution_count": 7,
   "metadata": {},
   "outputs": [],
   "source": [
    "documents = sent_tokenize(corpus)"
   ]
  },
  {
   "cell_type": "code",
   "execution_count": 8,
   "metadata": {},
   "outputs": [
    {
     "data": {
      "text/plain": [
       "list"
      ]
     },
     "execution_count": 8,
     "metadata": {},
     "output_type": "execute_result"
    }
   ],
   "source": [
    "type(documents)"
   ]
  },
  {
   "cell_type": "code",
   "execution_count": 10,
   "metadata": {},
   "outputs": [
    {
     "data": {
      "text/plain": [
       "['Folklore, legends, myths and fairy tales have followed childhood through the ages, for every healthy youngster has a wholesome and instinctive love for stories fantastic, marvelous and manifestly unreal.',\n",
       " 'The winged fairies of Grimm and Andersen have brought more happiness to childish hearts than all other human creations.',\n",
       " 'Yet the old time fairy tale, having served for generations, may now be classed as “historical” in the children’s library; for the time has come for a series of newer “wonder tales” in which the stereotyped genie, dwarf and fairy are eliminated, together with all the horrible and blood-curdling incidents devised by their authors to point a fearsome moral to each tale.',\n",
       " 'Modern education includes morality; therefore the modern child seeks only entertainment in its wonder tales and gladly dispenses with all disagreeable incident.',\n",
       " 'Having this thought in mind, the story of “The Wonderful Wizard of Oz” was written solely to please children of today.',\n",
       " 'It aspires to being a modernized fairy tale, in which the wonderment and joy are retained and the heartaches and nightmares are left out.']"
      ]
     },
     "execution_count": 10,
     "metadata": {},
     "output_type": "execute_result"
    }
   ],
   "source": [
    "documents"
   ]
  },
  {
   "cell_type": "markdown",
   "metadata": {},
   "source": [
    "Word Tokenization"
   ]
  },
  {
   "cell_type": "code",
   "execution_count": 13,
   "metadata": {},
   "outputs": [
    {
     "name": "stdout",
     "output_type": "stream",
     "text": [
      "['Folklore', ',', 'legends', ',', 'myths', 'and', 'fairy', 'tales', 'have', 'followed', 'childhood', 'through', 'the', 'ages', ',', 'for', 'every', 'healthy', 'youngster', 'has', 'a', 'wholesome', 'and', 'instinctive', 'love', 'for', 'stories', 'fantastic', ',', 'marvelous', 'and', 'manifestly', 'unreal', '.']\n",
      "['The', 'winged', 'fairies', 'of', 'Grimm', 'and', 'Andersen', 'have', 'brought', 'more', 'happiness', 'to', 'childish', 'hearts', 'than', 'all', 'other', 'human', 'creations', '.']\n",
      "['Yet', 'the', 'old', 'time', 'fairy', 'tale', ',', 'having', 'served', 'for', 'generations', ',', 'may', 'now', 'be', 'classed', 'as', '“', 'historical', '”', 'in', 'the', 'children', '’', 's', 'library', ';', 'for', 'the', 'time', 'has', 'come', 'for', 'a', 'series', 'of', 'newer', '“', 'wonder', 'tales', '”', 'in', 'which', 'the', 'stereotyped', 'genie', ',', 'dwarf', 'and', 'fairy', 'are', 'eliminated', ',', 'together', 'with', 'all', 'the', 'horrible', 'and', 'blood-curdling', 'incidents', 'devised', 'by', 'their', 'authors', 'to', 'point', 'a', 'fearsome', 'moral', 'to', 'each', 'tale', '.']\n",
      "['Modern', 'education', 'includes', 'morality', ';', 'therefore', 'the', 'modern', 'child', 'seeks', 'only', 'entertainment', 'in', 'its', 'wonder', 'tales', 'and', 'gladly', 'dispenses', 'with', 'all', 'disagreeable', 'incident', '.']\n",
      "['Having', 'this', 'thought', 'in', 'mind', ',', 'the', 'story', 'of', '“', 'The', 'Wonderful', 'Wizard', 'of', 'Oz', '”', 'was', 'written', 'solely', 'to', 'please', 'children', 'of', 'today', '.']\n",
      "['It', 'aspires', 'to', 'being', 'a', 'modernized', 'fairy', 'tale', ',', 'in', 'which', 'the', 'wonderment', 'and', 'joy', 'are', 'retained', 'and', 'the', 'heartaches', 'and', 'nightmares', 'are', 'left', 'out', '.']\n"
     ]
    }
   ],
   "source": [
    "for sentence in documents:\n",
    "    print(word_tokenize(sentence))"
   ]
  },
  {
   "cell_type": "code",
   "execution_count": 14,
   "metadata": {},
   "outputs": [
    {
     "name": "stdout",
     "output_type": "stream",
     "text": [
      "['Folklore', ',', 'legends', ',', 'myths', 'and', 'fairy', 'tales', 'have', 'followed', 'childhood', 'through', 'the', 'ages', ',', 'for', 'every', 'healthy', 'youngster', 'has', 'a', 'wholesome', 'and', 'instinctive', 'love', 'for', 'stories', 'fantastic', ',', 'marvelous', 'and', 'manifestly', 'unreal', '.']\n",
      "['The', 'winged', 'fairies', 'of', 'Grimm', 'and', 'Andersen', 'have', 'brought', 'more', 'happiness', 'to', 'childish', 'hearts', 'than', 'all', 'other', 'human', 'creations', '.']\n",
      "['Yet', 'the', 'old', 'time', 'fairy', 'tale', ',', 'having', 'served', 'for', 'generations', ',', 'may', 'now', 'be', 'classed', 'as', '“', 'historical', '”', 'in', 'the', 'children', '’', 's', 'library', ';', 'for', 'the', 'time', 'has', 'come', 'for', 'a', 'series', 'of', 'newer', '“', 'wonder', 'tales', '”', 'in', 'which', 'the', 'stereotyped', 'genie', ',', 'dwarf', 'and', 'fairy', 'are', 'eliminated', ',', 'together', 'with', 'all', 'the', 'horrible', 'and', 'blood', '-', 'curdling', 'incidents', 'devised', 'by', 'their', 'authors', 'to', 'point', 'a', 'fearsome', 'moral', 'to', 'each', 'tale', '.']\n",
      "['Modern', 'education', 'includes', 'morality', ';', 'therefore', 'the', 'modern', 'child', 'seeks', 'only', 'entertainment', 'in', 'its', 'wonder', 'tales', 'and', 'gladly', 'dispenses', 'with', 'all', 'disagreeable', 'incident', '.']\n",
      "['Having', 'this', 'thought', 'in', 'mind', ',', 'the', 'story', 'of', '“', 'The', 'Wonderful', 'Wizard', 'of', 'Oz', '”', 'was', 'written', 'solely', 'to', 'please', 'children', 'of', 'today', '.']\n",
      "['It', 'aspires', 'to', 'being', 'a', 'modernized', 'fairy', 'tale', ',', 'in', 'which', 'the', 'wonderment', 'and', 'joy', 'are', 'retained', 'and', 'the', 'heartaches', 'and', 'nightmares', 'are', 'left', 'out', '.']\n"
     ]
    }
   ],
   "source": [
    "# we will see the use of wordpunct_tokenize which treats punctuation marks as words too \n",
    "for sentence in documents:\n",
    "    print(wordpunct_tokenize(sentence))"
   ]
  },
  {
   "cell_type": "code",
   "execution_count": 15,
   "metadata": {},
   "outputs": [
    {
     "data": {
      "text/plain": [
       "['Folklore',\n",
       " ',',\n",
       " 'legends',\n",
       " ',',\n",
       " 'myths',\n",
       " 'and',\n",
       " 'fairy',\n",
       " 'tales',\n",
       " 'have',\n",
       " 'followed',\n",
       " 'childhood',\n",
       " 'through',\n",
       " 'the',\n",
       " 'ages',\n",
       " ',',\n",
       " 'for',\n",
       " 'every',\n",
       " 'healthy',\n",
       " 'youngster',\n",
       " 'has',\n",
       " 'a',\n",
       " 'wholesome',\n",
       " 'and',\n",
       " 'instinctive',\n",
       " 'love',\n",
       " 'for',\n",
       " 'stories',\n",
       " 'fantastic',\n",
       " ',',\n",
       " 'marvelous',\n",
       " 'and',\n",
       " 'manifestly',\n",
       " 'unreal.',\n",
       " 'The',\n",
       " 'winged',\n",
       " 'fairies',\n",
       " 'of',\n",
       " 'Grimm',\n",
       " 'and',\n",
       " 'Andersen',\n",
       " 'have',\n",
       " 'brought',\n",
       " 'more',\n",
       " 'happiness',\n",
       " 'to',\n",
       " 'childish',\n",
       " 'hearts',\n",
       " 'than',\n",
       " 'all',\n",
       " 'other',\n",
       " 'human',\n",
       " 'creations.',\n",
       " 'Yet',\n",
       " 'the',\n",
       " 'old',\n",
       " 'time',\n",
       " 'fairy',\n",
       " 'tale',\n",
       " ',',\n",
       " 'having',\n",
       " 'served',\n",
       " 'for',\n",
       " 'generations',\n",
       " ',',\n",
       " 'may',\n",
       " 'now',\n",
       " 'be',\n",
       " 'classed',\n",
       " 'as',\n",
       " '“historical”',\n",
       " 'in',\n",
       " 'the',\n",
       " 'children’s',\n",
       " 'library',\n",
       " ';',\n",
       " 'for',\n",
       " 'the',\n",
       " 'time',\n",
       " 'has',\n",
       " 'come',\n",
       " 'for',\n",
       " 'a',\n",
       " 'series',\n",
       " 'of',\n",
       " 'newer',\n",
       " '“wonder',\n",
       " 'tales”',\n",
       " 'in',\n",
       " 'which',\n",
       " 'the',\n",
       " 'stereotyped',\n",
       " 'genie',\n",
       " ',',\n",
       " 'dwarf',\n",
       " 'and',\n",
       " 'fairy',\n",
       " 'are',\n",
       " 'eliminated',\n",
       " ',',\n",
       " 'together',\n",
       " 'with',\n",
       " 'all',\n",
       " 'the',\n",
       " 'horrible',\n",
       " 'and',\n",
       " 'blood-curdling',\n",
       " 'incidents',\n",
       " 'devised',\n",
       " 'by',\n",
       " 'their',\n",
       " 'authors',\n",
       " 'to',\n",
       " 'point',\n",
       " 'a',\n",
       " 'fearsome',\n",
       " 'moral',\n",
       " 'to',\n",
       " 'each',\n",
       " 'tale.',\n",
       " 'Modern',\n",
       " 'education',\n",
       " 'includes',\n",
       " 'morality',\n",
       " ';',\n",
       " 'therefore',\n",
       " 'the',\n",
       " 'modern',\n",
       " 'child',\n",
       " 'seeks',\n",
       " 'only',\n",
       " 'entertainment',\n",
       " 'in',\n",
       " 'its',\n",
       " 'wonder',\n",
       " 'tales',\n",
       " 'and',\n",
       " 'gladly',\n",
       " 'dispenses',\n",
       " 'with',\n",
       " 'all',\n",
       " 'disagreeable',\n",
       " 'incident.',\n",
       " 'Having',\n",
       " 'this',\n",
       " 'thought',\n",
       " 'in',\n",
       " 'mind',\n",
       " ',',\n",
       " 'the',\n",
       " 'story',\n",
       " 'of',\n",
       " '“The',\n",
       " 'Wonderful',\n",
       " 'Wizard',\n",
       " 'of',\n",
       " 'Oz”',\n",
       " 'was',\n",
       " 'written',\n",
       " 'solely',\n",
       " 'to',\n",
       " 'please',\n",
       " 'children',\n",
       " 'of',\n",
       " 'today.',\n",
       " 'It',\n",
       " 'aspires',\n",
       " 'to',\n",
       " 'being',\n",
       " 'a',\n",
       " 'modernized',\n",
       " 'fairy',\n",
       " 'tale',\n",
       " ',',\n",
       " 'in',\n",
       " 'which',\n",
       " 'the',\n",
       " 'wonderment',\n",
       " 'and',\n",
       " 'joy',\n",
       " 'are',\n",
       " 'retained',\n",
       " 'and',\n",
       " 'the',\n",
       " 'heartaches',\n",
       " 'and',\n",
       " 'nightmares',\n",
       " 'are',\n",
       " 'left',\n",
       " 'out',\n",
       " '.']"
      ]
     },
     "execution_count": 15,
     "metadata": {},
     "output_type": "execute_result"
    }
   ],
   "source": [
    "# With TreebankWordTokenizer, only the last word full stop is treated as seperate word.\n",
    "tokenizer = TreebankWordTokenizer()\n",
    "tokenizer.tokenize(corpus)"
   ]
  }
 ],
 "metadata": {
  "kernelspec": {
   "display_name": "Python 3",
   "language": "python",
   "name": "python3"
  },
  "language_info": {
   "codemirror_mode": {
    "name": "ipython",
    "version": 3
   },
   "file_extension": ".py",
   "mimetype": "text/x-python",
   "name": "python",
   "nbconvert_exporter": "python",
   "pygments_lexer": "ipython3",
   "version": "3.12.5"
  }
 },
 "nbformat": 4,
 "nbformat_minor": 2
}
